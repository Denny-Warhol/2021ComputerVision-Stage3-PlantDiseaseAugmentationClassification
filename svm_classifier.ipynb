{
 "cells": [
  {
   "cell_type": "code",
   "execution_count": 8,
   "metadata": {},
   "outputs": [],
   "source": [
    "import os\n",
    "import numpy as np\n",
    "from sklearn.preprocessing import LabelEncoder\n",
    "from sklearn.neighbors import KNeighborsClassifier\n",
    "from sklearn import svm\n",
    "import tensorflow as tf\n",
    "from tensorflow.keras.applications import resnet\n",
    "\n",
    "target_shape = (300, 300)"
   ]
  },
  {
   "cell_type": "code",
   "execution_count": 9,
   "metadata": {
    "pycharm": {
     "name": "#%%\n"
    }
   },
   "outputs": [],
   "source": [
    "def preprocess_image(filename):\n",
    "    \"\"\"이미지를 loading하는 함수\"\"\"\n",
    "    image_string = tf.io.read_file(filename)\n",
    "    image = tf.image.decode_jpeg(image_string, channels=3)\n",
    "    image = tf.image.convert_image_dtype(image, tf.float32)\n",
    "    image = tf.image.resize(image, target_shape)\n",
    "\n",
    "    return image"
   ]
  },
  {
   "cell_type": "code",
   "execution_count": 10,
   "metadata": {
    "pycharm": {
     "name": "#%%\n"
    }
   },
   "outputs": [],
   "source": [
    "training_data_path = r'./data/plant_dataset/training_set'\n",
    "test_data_path = r'./data/plant_dataset/test_set'\n",
    "CLASSES = ['burn_disease', 'healthy', 'leafspot']\n",
    "\n",
    "\n",
    "def read_image_label_name_from_path(data_path, class_names):\n",
    "    images, labels = [], []\n",
    "    for class_name in class_names:\n",
    "        image_names = os.listdir(os.path.join(data_path, class_name))\n",
    "        images.extend([os.path.join(data_path, class_name, image) for image in image_names])\n",
    "        labels.extend([class_name] * len(image_names))\n",
    "    return images, labels\n",
    "\n",
    "\n",
    "# 훈련 이미지와 테스트 이미지 및 대응하는 라벨을 읽어옴\n",
    "train_images, train_labels = read_image_label_name_from_path(training_data_path, CLASSES)\n",
    "test_images, test_labels = read_image_label_name_from_path(test_data_path, CLASSES)"
   ]
  },
  {
   "cell_type": "code",
   "execution_count": 11,
   "metadata": {
    "pycharm": {
     "name": "#%%\n"
    }
   },
   "outputs": [],
   "source": [
    "# 훈련 데이터셋과 테스트 데이터셋에 대한 dataset class 생성\n",
    "train_dataset = tf.data.Dataset.from_tensor_slices(train_images)\n",
    "test_dataset = tf.data.Dataset.from_tensor_slices(test_images)\n",
    "\n",
    "train_dataset = train_dataset.map(preprocess_image)\n",
    "test_dataset = test_dataset.map(preprocess_image)\n",
    "\n",
    "train_dataset = train_dataset.batch(32, drop_remainder=False)\n",
    "test_dataset = test_dataset.batch(32, drop_remainder=False)\n",
    "\n",
    "train_dataset = train_dataset.prefetch(8)\n",
    "test_dataset = test_dataset.prefetch(8)"
   ]
  },
  {
   "cell_type": "code",
   "execution_count": 12,
   "metadata": {
    "pycharm": {
     "name": "#%%\n"
    }
   },
   "outputs": [
    {
     "name": "stdout",
     "output_type": "stream",
     "text": [
      "WARNING:tensorflow:No training configuration found in save file, so the model was *not* compiled. Compile it manually.\n"
     ]
    }
   ],
   "source": [
    "# 전 단계에서 fine-tuning한 특징 추출기를 loading함\n",
    "embedding = tf.keras.models.load_model(\"embeddings/embeddings_e25_v1\")"
   ]
  },
  {
   "cell_type": "code",
   "execution_count": 13,
   "metadata": {
    "pycharm": {
     "name": "#%%\n"
    }
   },
   "outputs": [],
   "source": [
    "train_embeds = []\n",
    "test_embeds = []\n",
    "# 훈련 데이터셋 및 테스트 데이터셋의 이미지에 대해 특징을 추출하고 리스트에 저장함\n",
    "for sample in train_dataset:\n",
    "    image_embedding = embedding(resnet.preprocess_input(sample)).numpy()\n",
    "    train_embeds.append(image_embedding)\n",
    "for sample in test_dataset:\n",
    "    image_embedding = embedding(resnet.preprocess_input(sample)).numpy()\n",
    "    test_embeds.append(image_embedding)"
   ]
  },
  {
   "cell_type": "code",
   "execution_count": 14,
   "metadata": {
    "pycharm": {
     "name": "#%%\n"
    }
   },
   "outputs": [],
   "source": [
    "train_embeds = np.vstack(train_embeds)\n",
    "test_embeds = np.vstack(test_embeds)"
   ]
  },
  {
   "cell_type": "code",
   "execution_count": 15,
   "metadata": {
    "pycharm": {
     "name": "#%%\n"
    }
   },
   "outputs": [],
   "source": [
    "le = LabelEncoder()\n",
    "train_labels = le.fit_transform(train_labels)\n",
    "test_labels = le.transform(test_labels)"
   ]
  },
  {
   "cell_type": "code",
   "execution_count": 16,
   "metadata": {},
   "outputs": [],
   "source": [
    "from sklearn.preprocessing import StandardScaler"
   ]
  },
  {
   "cell_type": "code",
   "execution_count": 17,
   "metadata": {},
   "outputs": [],
   "source": [
    "# Standard scaler를 이용해 정규화를 진행함\n",
    "scaler = StandardScaler().fit(train_embeds)\n",
    "std_train_embeds = scaler.transform(train_embeds)\n",
    "std_test_embeds = scaler.transform(test_embeds)"
   ]
  },
  {
   "cell_type": "code",
   "execution_count": 18,
   "metadata": {},
   "outputs": [],
   "source": [
    "shuffled_idx = np.random.permutation(len(std_train_embeds))\n",
    "std_train_embeds = std_train_embeds[shuffled_idx]\n",
    "train_labels = train_labels[shuffled_idx]"
   ]
  },
  {
   "cell_type": "code",
   "execution_count": 22,
   "metadata": {},
   "outputs": [
    {
     "name": "stdout",
     "output_type": "stream",
     "text": [
      "(1284, 256)\n",
      "(1284,)\n"
     ]
    }
   ],
   "source": [
    "print(std_train_embeds.shape)\n",
    "print(train_labels.shape)"
   ]
  },
  {
   "cell_type": "code",
   "execution_count": 61,
   "metadata": {},
   "outputs": [
    {
     "data": {
      "text/plain": [
       "0.8761682242990654"
      ]
     },
     "execution_count": 61,
     "metadata": {},
     "output_type": "execute_result"
    }
   ],
   "source": [
    "from sklearn.svm import SVC\n",
    "from sklearn.multiclass import OneVsRestClassifier\n",
    "# SVM 알고리즘을 사용해 훈련을 진행함\n",
    "ovr_clf = OneVsRestClassifier(SVC())\n",
    "ovr_clf.fit(std_train_embeds, train_labels)\n",
    "ovr_clf.score(std_train_embeds, train_labels)"
   ]
  },
  {
   "cell_type": "code",
   "execution_count": 62,
   "metadata": {},
   "outputs": [
    {
     "data": {
      "text/plain": [
       "1.0"
      ]
     },
     "execution_count": 62,
     "metadata": {},
     "output_type": "execute_result"
    }
   ],
   "source": [
    "from sklearn.ensemble import RandomForestClassifier\n",
    "from sklearn.multiclass import OneVsRestClassifier\n",
    "# RandomForest 알고리즘을 사용해 훈련을 진행함\n",
    "ovr_clf = OneVsRestClassifier(RandomForestClassifier())\n",
    "ovr_clf.fit(std_train_embeds, train_labels)\n",
    "ovr_clf.score(std_train_embeds, train_labels)"
   ]
  },
  {
   "cell_type": "code",
   "execution_count": 63,
   "metadata": {},
   "outputs": [],
   "source": [
    "predict_result = ovr_clf.predict(std_test_embeds)"
   ]
  },
  {
   "cell_type": "code",
   "execution_count": 64,
   "metadata": {},
   "outputs": [],
   "source": [
    "import pandas as pd\n",
    "df = pd.DataFrame(list(zip(test_images, predict_result)), columns=['Name', 'pred'])"
   ]
  },
  {
   "cell_type": "code",
   "execution_count": 65,
   "metadata": {},
   "outputs": [
    {
     "data": {
      "text/html": [
       "<div>\n",
       "<style scoped>\n",
       "    .dataframe tbody tr th:only-of-type {\n",
       "        vertical-align: middle;\n",
       "    }\n",
       "\n",
       "    .dataframe tbody tr th {\n",
       "        vertical-align: top;\n",
       "    }\n",
       "\n",
       "    .dataframe thead th {\n",
       "        text-align: right;\n",
       "    }\n",
       "</style>\n",
       "<table border=\"1\" class=\"dataframe\">\n",
       "  <thead>\n",
       "    <tr style=\"text-align: right;\">\n",
       "      <th></th>\n",
       "      <th>Name</th>\n",
       "      <th>pred</th>\n",
       "    </tr>\n",
       "  </thead>\n",
       "  <tbody>\n",
       "    <tr>\n",
       "      <th>0</th>\n",
       "      <td>burn_disease\\burn1.jpeg</td>\n",
       "      <td>0</td>\n",
       "    </tr>\n",
       "    <tr>\n",
       "      <th>1</th>\n",
       "      <td>burn_disease\\burn2.jpeg</td>\n",
       "      <td>0</td>\n",
       "    </tr>\n",
       "    <tr>\n",
       "      <th>2</th>\n",
       "      <td>burn_disease\\burn3.jpeg</td>\n",
       "      <td>0</td>\n",
       "    </tr>\n",
       "    <tr>\n",
       "      <th>3</th>\n",
       "      <td>burn_disease\\burn4.jpeg</td>\n",
       "      <td>0</td>\n",
       "    </tr>\n",
       "    <tr>\n",
       "      <th>4</th>\n",
       "      <td>burn_disease\\burn5.jpeg</td>\n",
       "      <td>0</td>\n",
       "    </tr>\n",
       "    <tr>\n",
       "      <th>5</th>\n",
       "      <td>healthy\\hel1.jpeg</td>\n",
       "      <td>0</td>\n",
       "    </tr>\n",
       "    <tr>\n",
       "      <th>6</th>\n",
       "      <td>healthy\\hel2.jpeg</td>\n",
       "      <td>1</td>\n",
       "    </tr>\n",
       "    <tr>\n",
       "      <th>7</th>\n",
       "      <td>healthy\\hel3.jpeg</td>\n",
       "      <td>1</td>\n",
       "    </tr>\n",
       "    <tr>\n",
       "      <th>8</th>\n",
       "      <td>healthy\\hel4.jpeg</td>\n",
       "      <td>1</td>\n",
       "    </tr>\n",
       "    <tr>\n",
       "      <th>9</th>\n",
       "      <td>healthy\\hel5.jpeg</td>\n",
       "      <td>1</td>\n",
       "    </tr>\n",
       "    <tr>\n",
       "      <th>10</th>\n",
       "      <td>leafspot\\leafspot1.jpeg</td>\n",
       "      <td>2</td>\n",
       "    </tr>\n",
       "    <tr>\n",
       "      <th>11</th>\n",
       "      <td>leafspot\\leafspot2.jpeg</td>\n",
       "      <td>2</td>\n",
       "    </tr>\n",
       "    <tr>\n",
       "      <th>12</th>\n",
       "      <td>leafspot\\leafspot3.jpeg</td>\n",
       "      <td>2</td>\n",
       "    </tr>\n",
       "    <tr>\n",
       "      <th>13</th>\n",
       "      <td>leafspot\\leafspot4.jpeg</td>\n",
       "      <td>2</td>\n",
       "    </tr>\n",
       "    <tr>\n",
       "      <th>14</th>\n",
       "      <td>leafspot\\leafspot5.jpeg</td>\n",
       "      <td>2</td>\n",
       "    </tr>\n",
       "  </tbody>\n",
       "</table>\n",
       "</div>"
      ],
      "text/plain": [
       "                       Name  pred\n",
       "0   burn_disease\\burn1.jpeg     0\n",
       "1   burn_disease\\burn2.jpeg     0\n",
       "2   burn_disease\\burn3.jpeg     0\n",
       "3   burn_disease\\burn4.jpeg     0\n",
       "4   burn_disease\\burn5.jpeg     0\n",
       "5         healthy\\hel1.jpeg     0\n",
       "6         healthy\\hel2.jpeg     1\n",
       "7         healthy\\hel3.jpeg     1\n",
       "8         healthy\\hel4.jpeg     1\n",
       "9         healthy\\hel5.jpeg     1\n",
       "10  leafspot\\leafspot1.jpeg     2\n",
       "11  leafspot\\leafspot2.jpeg     2\n",
       "12  leafspot\\leafspot3.jpeg     2\n",
       "13  leafspot\\leafspot4.jpeg     2\n",
       "14  leafspot\\leafspot5.jpeg     2"
      ]
     },
     "execution_count": 65,
     "metadata": {},
     "output_type": "execute_result"
    }
   ],
   "source": [
    "df['Name'] = df['Name'].map(lambda x: '\\\\'.join(x.split(os.path.sep)[-2:]))\n",
    "df"
   ]
  },
  {
   "cell_type": "code",
   "execution_count": 66,
   "metadata": {},
   "outputs": [],
   "source": [
    "df.to_csv(\"submit.csv\", index=False)"
   ]
  },
  {
   "cell_type": "code",
   "execution_count": null,
   "metadata": {},
   "outputs": [],
   "source": []
  }
 ],
 "metadata": {
  "kernelspec": {
   "display_name": "Python 3 (ipykernel)",
   "language": "python",
   "name": "python3"
  },
  "language_info": {
   "codemirror_mode": {
    "name": "ipython",
    "version": 3
   },
   "file_extension": ".py",
   "mimetype": "text/x-python",
   "name": "python",
   "nbconvert_exporter": "python",
   "pygments_lexer": "ipython3",
   "version": "3.9.7"
  }
 },
 "nbformat": 4,
 "nbformat_minor": 1
}
