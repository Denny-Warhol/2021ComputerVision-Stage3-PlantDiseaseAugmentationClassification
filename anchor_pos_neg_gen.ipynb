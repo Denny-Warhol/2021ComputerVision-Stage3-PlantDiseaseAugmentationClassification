{
 "cells": [
  {
   "cell_type": "code",
   "execution_count": 1,
   "metadata": {},
   "outputs": [],
   "source": [
    "import os\n",
    "import random\n",
    "import itertools\n",
    "random.seed(0)\n",
    "import pickle"
   ]
  },
  {
   "cell_type": "code",
   "execution_count": 2,
   "metadata": {
    "pycharm": {
     "name": "#%%\n"
    }
   },
   "outputs": [],
   "source": [
    "# 클래스별 이미지 리스트를 생성\n",
    "data_path = './data/PlantVillage'\n",
    "classes = os.listdir(data_path)\n",
    "class_images = {}\n",
    "for class_name in classes:\n",
    "    image_names = os.listdir(os.path.join(data_path, class_name))\n",
    "    class_images[class_name] = image_names"
   ]
  },
  {
   "cell_type": "code",
   "execution_count": 3,
   "metadata": {
    "pycharm": {
     "name": "#%%\n"
    }
   },
   "outputs": [
    {
     "name": "stdout",
     "output_type": "stream",
     "text": [
      "Apple___Apple_scab: 1000\n",
      "Apple___Black_rot: 1000\n",
      "Apple___Cedar_apple_rust: 1000\n",
      "Apple___healthy: 1645\n",
      "Background_without_leaves: 1143\n",
      "Blueberry___healthy: 1502\n",
      "Cherry___healthy: 1000\n",
      "Cherry___Powdery_mildew: 1052\n",
      "Corn___Cercospora_leaf_spot Gray_leaf_spot: 1000\n",
      "Corn___Common_rust: 1192\n",
      "Corn___healthy: 1162\n",
      "Corn___Northern_Leaf_Blight: 1000\n",
      "Grape___Black_rot: 1180\n",
      "Grape___Esca_(Black_Measles): 1383\n",
      "Grape___healthy: 1000\n",
      "Grape___Leaf_blight_(Isariopsis_Leaf_Spot): 1076\n",
      "Orange___Haunglongbing_(Citrus_greening): 5507\n",
      "Peach___Bacterial_spot: 2297\n",
      "Peach___healthy: 1000\n",
      "Pepper,_bell___Bacterial_spot: 1000\n",
      "Pepper,_bell___healthy: 1478\n",
      "Potato___Early_blight: 1000\n",
      "Potato___healthy: 1000\n",
      "Potato___Late_blight: 1000\n",
      "Raspberry___healthy: 1000\n",
      "Soybean___healthy: 5090\n",
      "Squash___Powdery_mildew: 1835\n",
      "Strawberry___healthy: 1000\n",
      "Strawberry___Leaf_scorch: 1109\n",
      "Tomato___Bacterial_spot: 2127\n",
      "Tomato___Early_blight: 1000\n",
      "Tomato___healthy: 1591\n",
      "Tomato___Late_blight: 1909\n",
      "Tomato___Leaf_Mold: 1000\n",
      "Tomato___Septoria_leaf_spot: 1771\n",
      "Tomato___Spider_mites Two-spotted_spider_mite: 1676\n",
      "Tomato___Target_Spot: 1404\n",
      "Tomato___Tomato_mosaic_virus: 1000\n",
      "Tomato___Tomato_Yellow_Leaf_Curl_Virus: 5357\n"
     ]
    }
   ],
   "source": [
    "for class_name, images in class_images.items():\n",
    "    print(f'{class_name}: {len(images)}')"
   ]
  },
  {
   "cell_type": "code",
   "execution_count": 4,
   "metadata": {
    "pycharm": {
     "name": "#%%\n"
    }
   },
   "outputs": [],
   "source": [
    "# Negative 이미지 dictionary 생성\n",
    "# 예: burn_disease key에 해당하는 리스트에는 burn disease를 제외한 타 클라스의 이미지가 저장됨\n",
    "negative_image_dict = {}\n",
    "for class_name in classes:\n",
    "    negative_image_candidates = []\n",
    "    for negative_class in classes:\n",
    "        if negative_class != class_name:\n",
    "            for negative_image_name in class_images[negative_class]:\n",
    "                negative_image_candidates.append(os.path.join(negative_class, negative_image_name))\n",
    "    negative_image_dict[class_name] = negative_image_candidates"
   ]
  },
  {
   "cell_type": "code",
   "execution_count": 5,
   "metadata": {
    "pycharm": {
     "name": "#%%\n"
    }
   },
   "outputs": [],
   "source": [
    "# anchor_images, positive_images, negative_images를 리스트에 순서대로 저장함\n",
    "# 각 클래스당 1000개의 sample를 생성해 총 3000쌍의 데이터셋을 생성함\n",
    "anchor_images = []\n",
    "positive_images = []\n",
    "negative_images = []\n",
    "sample_per_class = 1000\n",
    "\n",
    "for i in range(sample_per_class):\n",
    "    for class_name in classes:\n",
    "        anchor_image = random.choice(class_images[class_name])\n",
    "        positive_image = random.choice(class_images[class_name])\n",
    "        anchor_image = os.path.join(class_name, anchor_image)\n",
    "        positive_image = os.path.join(class_name, positive_image)\n",
    "        anchor_images.append(anchor_image)\n",
    "        positive_images.append(positive_image)\n",
    "        negative_images.append(random.choice(negative_image_dict[class_name]))"
   ]
  },
  {
   "cell_type": "code",
   "execution_count": 6,
   "metadata": {
    "pycharm": {
     "name": "#%%\n"
    }
   },
   "outputs": [
    {
     "name": "stdout",
     "output_type": "stream",
     "text": [
      "['Apple___Apple_scab\\\\image (877).JPG', 'Apple___Black_rot\\\\image (919).JPG', 'Apple___Cedar_apple_rust\\\\image (337).JPG']\n",
      "['Apple___Apple_scab\\\\image (453).JPG', 'Apple___Black_rot\\\\image (486).JPG', 'Apple___Cedar_apple_rust\\\\image (989).JPG']\n",
      "['Tomato___Septoria_leaf_spot\\\\image (1354).JPG', 'Apple___healthy\\\\image (1587).JPG', 'Soybean___healthy\\\\image (18).JPG']\n"
     ]
    }
   ],
   "source": [
    "# 각 원소 순서로 봤을 때 positive_images의 클래스는 anchor_images와 같고 negative_images의 클래스는 anchor_images와 다름\n",
    "print(anchor_images[:3])\n",
    "print(positive_images[:3])\n",
    "print(negative_images[:3])"
   ]
  },
  {
   "cell_type": "code",
   "execution_count": 7,
   "metadata": {
    "pycharm": {
     "name": "#%%\n"
    }
   },
   "outputs": [],
   "source": [
    "def save_list_to_pickle(filename, l):\n",
    "    with open(filename, 'wb') as f:\n",
    "        pickle.dump(l, f)"
   ]
  },
  {
   "cell_type": "code",
   "execution_count": 8,
   "metadata": {
    "pycharm": {
     "name": "#%%\n"
    }
   },
   "outputs": [],
   "source": [
    "# anchor_images, positive_images, negative_images 각각 pickle 파일에 저장함\n",
    "save_list_to_pickle('./data/anchor.pkl', anchor_images)\n",
    "save_list_to_pickle('./data/positive.pkl', positive_images)\n",
    "save_list_to_pickle('./data/negative.pkl', negative_images)"
   ]
  },
  {
   "cell_type": "code",
   "execution_count": null,
   "metadata": {
    "pycharm": {
     "name": "#%%\n"
    }
   },
   "outputs": [],
   "source": []
  }
 ],
 "metadata": {
  "kernelspec": {
   "display_name": "Python 3 (ipykernel)",
   "language": "python",
   "name": "python3"
  },
  "language_info": {
   "codemirror_mode": {
    "name": "ipython",
    "version": 3
   },
   "file_extension": ".py",
   "mimetype": "text/x-python",
   "name": "python",
   "nbconvert_exporter": "python",
   "pygments_lexer": "ipython3",
   "version": "3.9.7"
  }
 },
 "nbformat": 4,
 "nbformat_minor": 1
}
